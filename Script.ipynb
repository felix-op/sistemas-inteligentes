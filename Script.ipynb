{
 "cells": [
  {
   "cell_type": "markdown",
   "id": "15ef4754",
   "metadata": {},
   "source": [
    "## Exportación y Carga del Dataset Adult"
   ]
  },
  {
   "cell_type": "code",
   "execution_count": null,
   "id": "3717a79a",
   "metadata": {},
   "outputs": [],
   "source": [
    "import pandas as pd\n",
    "\n",
    "# URL del dataset en el repositorio de UCI\n",
    "url = \"adult/adult.data\"\n",
    "columnas = [\"age\", \"workclass\", \"fnlwgt\", \"education\", \"education-num\", \"marital-status\",\n",
    "            \"occupation\", \"relationship\", \"race\", \"sex\", \"capital-gain\", \"capital-loss\",\n",
    "            \"hours-per-week\", \"native-country\", \"income\"]\n",
    "# Leer CSV y limpiar espacios / valores faltantes\n",
    "df = pd.read_csv(url, names=columnas, na_values=\"?\", skipinitialspace=True)"
   ]
  },
  {
   "cell_type": "markdown",
   "id": "0b4986d1",
   "metadata": {},
   "source": [
    "Eliminamos filas con valores faltantes"
   ]
  },
  {
   "cell_type": "code",
   "execution_count": null,
   "id": "2a35be8f",
   "metadata": {},
   "outputs": [],
   "source": [
    "df = df.dropna()"
   ]
  },
  {
   "cell_type": "markdown",
   "id": "7fc324d8",
   "metadata": {},
   "source": [
    "Tratamiento de variables categoricas"
   ]
  },
  {
   "cell_type": "markdown",
   "id": "67bd5247",
   "metadata": {},
   "source": [
    "education: La columna education se retira porque la información de nivel educativo ya está representada en education-num, que es numérica. Mantener ambas sería redundante y podría sesgar el clustering."
   ]
  },
  {
   "cell_type": "markdown",
   "id": "9812f19d",
   "metadata": {},
   "source": [
    "native-country:se recomienda eliminar native-country porque tiene demasiadas categorías y está muy desbalanceada (casi 90% son United-States), lo que aumenta la dimensionalidad sin aportar información significativa y puede afectar la estabilidad de los clusters."
   ]
  },
  {
   "cell_type": "markdown",
   "id": "17c4f61c",
   "metadata": {},
   "source": [
    "occupation:La columna occupation se retira porque tiene muchas categorías, algunas con muy pocos registros o valores faltantes (?). Esto aumenta la dimensionalidad innecesariamente y aporta poca información relevante para el clustering, afectando la estabilidad de los clusters en k-means."
   ]
  },
  {
   "cell_type": "markdown",
   "id": "8f915d0e",
   "metadata": {},
   "source": [
    "marital-status:La columna marital-status se retira porque muchas de sus categorías tienen muy pocos registros y, además, gran parte de la información relevante ya se refleja en otras variables del dataset. Mantenerla aumentaría la complejidad sin aportar información significativa para el clustering."
   ]
  },
  {
   "cell_type": "markdown",
   "id": "e5171099",
   "metadata": {},
   "source": [
    "workclass: La columna workclass se retira porque tiene muchas categorías con pocos registros y valores faltantes (?). Además, aproximadamente el 70% de los registros corresponden a Private, lo que genera un desbalance importante. En k-means, esta falta de variabilidad hace que las categorías minoritarias tengan un efecto casi nulo en la formación de clusters, otra razón para eliminarla."
   ]
  },
  {
   "cell_type": "markdown",
   "id": "8ba1f8ee",
   "metadata": {},
   "source": [
    "relationship:La columna relationship se retira porque varias de sus categorías tienen porcentajes bajos y gran parte de la información ya está representada en otras variables del dataset. Mantenerla aumentaría la complejidad y aportaría poca variabilidad para el clustering con k-means, por lo que se considera innecesaria."
   ]
  },
  {
   "cell_type": "markdown",
   "id": "0987f2d8",
   "metadata": {},
   "source": [
    "race:La columna race sí se conserva porque, aunque algunas categorías son minoritarias, representa información relevante sobre diversidad étnica. Esto puede aportar variabilidad significativa para el clustering y no genera un desbalance extremo como otras columnas que se eleminaron."
   ]
  },
  {
   "cell_type": "markdown",
   "id": "0950c79c",
   "metadata": {},
   "source": [
    "sex: La columna sex se conserva porque tiene solo dos categorías y aporta información relevante sobre género. Ya que contribuye a la variabilidad entre los registros."
   ]
  }
 ],
 "metadata": {
  "kernelspec": {
   "display_name": "env",
   "language": "python",
   "name": "python3"
  },
  "language_info": {
   "codemirror_mode": {
    "name": "ipython",
    "version": 3
   },
   "file_extension": ".py",
   "mimetype": "text/x-python",
   "name": "python",
   "nbconvert_exporter": "python",
   "pygments_lexer": "ipython3",
   "version": "3.11.4"
  }
 },
 "nbformat": 4,
 "nbformat_minor": 5
}
