{
 "cells": [
  {
   "cell_type": "code",
   "execution_count": null,
   "id": "f1a5a3d2-2f3d-4954-9dc7-7d2c5e93adb0",
   "metadata": {},
   "outputs": [],
   "source": []
  }
 ],
 "metadata": {
  "kernelspec": {
   "display_name": "Python (general)",
   "language": "python",
   "name": "general"
  },
  "language_info": {
   "name": "python",
   "version": "3.12.3"
  }
 },
 "nbformat": 4,
 "nbformat_minor": 5
}
