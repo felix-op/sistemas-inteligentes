{
 "cells": [
  {
   "cell_type": "markdown",
   "id": "a2832c43-da9a-4923-bc50-7181ca6c81b5",
   "metadata": {},
   "source": [
    "# Analisis del DataSet Adult"
   ]
  }
 ],
 "metadata": {
  "kernelspec": {
   "display_name": "Python (general)",
   "language": "python",
   "name": "general"
  },
  "language_info": {
   "codemirror_mode": {
    "name": "ipython",
    "version": 3
   },
   "file_extension": ".py",
   "mimetype": "text/x-python",
   "name": "python",
   "nbconvert_exporter": "python",
   "pygments_lexer": "ipython3",
   "version": "3.12.3"
  }
 },
 "nbformat": 4,
 "nbformat_minor": 5
}
